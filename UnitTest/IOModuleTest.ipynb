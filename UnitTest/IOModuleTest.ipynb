{
 "cells": [
  {
   "cell_type": "code",
   "execution_count": 1,
   "metadata": {},
   "outputs": [],
   "source": [
    "import rclib.IO as rcIO # make sure the lib is linked to the same directory\n",
    "import rclib.plot as rcplt\n",
    "import rclib.Scale as rcscale\n",
    "import numpy as np"
   ]
  },
  {
   "cell_type": "code",
   "execution_count": 4,
   "metadata": {},
   "outputs": [
    {
     "name": "stdout",
     "output_type": "stream",
     "text": [
      "filename = yahil_hdf5_chk_0001\n",
      "time = 0.010874264016684388  s\n",
      "geometry: b'cylindrical                                                                     '\n",
      "!----------------------------!\n",
      "Warning: NOT Cylindrical Data!\n",
      "!----------------------------!\n",
      "(210, 1, 8, 8)\n",
      "block_size (210, 3)\n",
      "dens  (210, 1, 8, 8)\n",
      "dens1  (210, 8, 8)\n",
      "size veltot (210, 1, 8, 8)\n"
     ]
    }
   ],
   "source": [
    "[time, block_size, coordinates, bounding, veltot, dens, densa, pres, prsa ]= \\\n",
    "rcIO.test_FLASH_IO_2D( '', 'yahil_hdf5_chk_', 1 )\n",
    "                                                                    \n",
    "print(veltot.shape)\n",
    "veltot[1][0][1][1]\n",
    "print('block_size', block_size.shape)\n",
    "block_size[1][1]\n",
    "print('dens ', dens.shape)\n",
    "dens1 = dens[:,0,:,:]\n",
    "print('dens1 ', dens1.shape)\n",
    "dens1[0,:,:]\n",
    "print('size veltot', veltot.shape)"
   ]
  }
 ],
 "metadata": {
  "kernelspec": {
   "display_name": "Python 3",
   "language": "python",
   "name": "python3"
  },
  "language_info": {
   "codemirror_mode": {
    "name": "ipython",
    "version": 3
   },
   "file_extension": ".py",
   "mimetype": "text/x-python",
   "name": "python",
   "nbconvert_exporter": "python",
   "pygments_lexer": "ipython3",
   "version": "3.7.4"
  }
 },
 "nbformat": 4,
 "nbformat_minor": 2
}
