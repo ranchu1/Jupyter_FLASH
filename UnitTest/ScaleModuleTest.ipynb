{
 "cells": [
  {
   "cell_type": "code",
   "execution_count": 1,
   "metadata": {},
   "outputs": [],
   "source": [
    "import rclib.Scale as rcscale\n",
    "import numpy as np"
   ]
  },
  {
   "cell_type": "code",
   "execution_count": 2,
   "metadata": {},
   "outputs": [],
   "source": [
    "data1 = np.random.random(6)\n",
    "data1 = np.round(data1*10)\n",
    "data2 = np.round(np.random.random(6)*100)"
   ]
  },
  {
   "cell_type": "code",
   "execution_count": 3,
   "metadata": {},
   "outputs": [
    {
     "name": "stdout",
     "output_type": "stream",
     "text": [
      "[[ 2. 26.]\n",
      " [ 1. 52.]\n",
      " [ 6. 65.]\n",
      " [ 6. 26.]\n",
      " [ 9. 31.]\n",
      " [ 6. 95.]]\n",
      "Sorted list take First: [array([ 1., 52.]), array([ 2., 26.]), array([ 6., 65.]), array([ 6., 26.]), array([ 6., 95.]), array([ 9., 31.])]\n"
     ]
    }
   ],
   "source": [
    "a = rcscale.scale_sort(data1,data2)"
   ]
  }
 ],
 "metadata": {
  "kernelspec": {
   "display_name": "Python 3",
   "language": "python",
   "name": "python3"
  },
  "language_info": {
   "codemirror_mode": {
    "name": "ipython",
    "version": 3
   },
   "file_extension": ".py",
   "mimetype": "text/x-python",
   "name": "python",
   "nbconvert_exporter": "python",
   "pygments_lexer": "ipython3",
   "version": "3.7.4"
  }
 },
 "nbformat": 4,
 "nbformat_minor": 2
}
