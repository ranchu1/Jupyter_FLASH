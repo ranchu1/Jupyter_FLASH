{
 "cells": [
  {
   "cell_type": "markdown",
   "metadata": {},
   "source": [
    "# Yahil Self-Similar Stellar Collapse\n",
    "\n",
    "Ref1: Yahil, A. (1983). Self-similar stellar collapse. The Astrophysical Journal, 265, 1047. https://doi.org/10.1086/160746\n",
    "\n",
    "Ref2: Guidry, M. (2019). Stars and Stellar Processes. Cambridge University Press.\n",
    "\n",
    "\n",
    "- A polytropic process is defined by\n",
    "\n",
    "$$ \\frac{\\delta Q}{\\delta T}=c $$\n",
    "\n",
    "where $Q$ is the heat, $T$ is the temperature, and $c$ is a constant.\n",
    "\n",
    "For ideal gases,\n",
    "\n",
    "$$ p = \\frac{N}{V}k_{b} T$$\n",
    "\n",
    "where $p$ is pressure, $k_{B}$ is the Boltzmann constant, $V$ is the volume, and $N$ is the number of the weak-interacted particles.\n",
    "\n",
    "The first law of thermodynamics gives\n",
    "\n",
    "$$d U= \\delta Q - \\delta W =\\delta Q-P d V=T d S-P d V$$\n",
    "\n",
    "One can prove that polytropic processes in ideal gases obey\n",
    "\n",
    "$$\n",
    "\\frac{d T}{T}=(1-\\gamma) \\frac{d V}{V}\n",
    "$$\n",
    "\n",
    "where \n",
    "\n",
    "$$\n",
    "\\gamma \\equiv \\frac{C_{P}-c}{C_{V}-c}\n",
    "$$\n",
    "\n",
    "- The most common form of a polytropic equation of state for ideal gas in astrophysics is\n",
    "\n",
    "$$ p = \\kappa \\rho^{\\gamma}$$\n",
    "\n",
    "where $\\rho$ is the density, $\\gamma$ is an effective adiabatic index, $\\kappa$ is a constant in both space and time, and\n",
    "\n",
    "$$ 6/5 \\leq \\gamma \\leq 4/3 $$.\n",
    "\n",
    "For a completely degenerate gas of nonrelativistic fermions, $\\gamma = \\frac{5}{3}$; for a completely degenerate gas of ultrarelativistic fermions, $\\gamma = \\frac{4}{3}$.\n",
    "\n",
    "\n",
    "- dimensionless parameters\n",
    "\n",
    "$$ X=\\kappa^{-1 / 2} G^{(\\gamma-1) / 2} r(-t)^{\\gamma-2} $$\n",
    "\n",
    "where $G$ is the gravitational constant, the origin of time $t$ is chosen to be the moment when the central density becomes infinite. "
   ]
  },
  {
   "cell_type": "code",
   "execution_count": null,
   "metadata": {},
   "outputs": [],
   "source": []
  }
 ],
 "metadata": {
  "kernelspec": {
   "display_name": "Python 3",
   "language": "python",
   "name": "python3"
  },
  "language_info": {
   "codemirror_mode": {
    "name": "ipython",
    "version": 3
   },
   "file_extension": ".py",
   "mimetype": "text/x-python",
   "name": "python",
   "nbconvert_exporter": "python",
   "pygments_lexer": "ipython3",
   "version": "3.7.4"
  }
 },
 "nbformat": 4,
 "nbformat_minor": 2
}
