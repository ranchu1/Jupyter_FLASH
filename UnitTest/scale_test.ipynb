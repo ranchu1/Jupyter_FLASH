{
 "cells": [
  {
   "cell_type": "code",
   "execution_count": 1,
   "metadata": {},
   "outputs": [
    {
     "name": "stdout",
     "output_type": "stream",
     "text": [
      "Sorted list: [(4, 1), (2, 2), (1, 3), (3, 4)]\n"
     ]
    }
   ],
   "source": [
    "import rclib.Scale as rcscale\n",
    "import numpy as np"
   ]
  },
  {
   "cell_type": "code",
   "execution_count": 2,
   "metadata": {},
   "outputs": [],
   "source": [
    "data1 = np.random.random(6)\n",
    "data1 = np.round(data1*10)\n",
    "data2 = np.round(np.random.random(6)*100)"
   ]
  },
  {
   "cell_type": "code",
   "execution_count": 3,
   "metadata": {},
   "outputs": [
    {
     "name": "stdout",
     "output_type": "stream",
     "text": [
      "[[10. 85.]\n",
      " [ 1. 66.]\n",
      " [10. 30.]\n",
      " [ 2.  8.]\n",
      " [ 1. 68.]\n",
      " [ 6. 29.]]\n",
      "Sorted list take First: [array([ 1., 66.]), array([ 1., 68.]), array([2., 8.]), array([ 6., 29.]), array([10., 85.]), array([10., 30.])]\n"
     ]
    }
   ],
   "source": [
    "a = rcscale.scale_sort(data1,data2)"
   ]
  },
  {
   "cell_type": "code",
   "execution_count": 4,
   "metadata": {},
   "outputs": [
    {
     "name": "stdout",
     "output_type": "stream",
     "text": [
      "[array([ 1., 66.]), array([ 1., 68.]), array([2., 8.]), array([ 6., 29.]), array([10., 85.]), array([10., 30.])]\n"
     ]
    }
   ],
   "source": [
    "print(a)"
   ]
  },
  {
   "cell_type": "code",
   "execution_count": null,
   "metadata": {},
   "outputs": [],
   "source": []
  }
 ],
 "metadata": {
  "kernelspec": {
   "display_name": "Python 3",
   "language": "python",
   "name": "python3"
  },
  "language_info": {
   "codemirror_mode": {
    "name": "ipython",
    "version": 3
   },
   "file_extension": ".py",
   "mimetype": "text/x-python",
   "name": "python",
   "nbconvert_exporter": "python",
   "pygments_lexer": "ipython3",
   "version": "3.7.3"
  }
 },
 "nbformat": 4,
 "nbformat_minor": 2
}
