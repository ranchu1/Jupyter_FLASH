{
 "cells": [
  {
   "cell_type": "code",
   "execution_count": 1,
   "metadata": {},
   "outputs": [],
   "source": [
    "# import library\n",
    "%matplotlib inline\n",
    "import rclib.IO as rcIO # make sure the lib is linked to the same directory\n",
    "import rclib.plot as rcplt\n",
    "import rclib.Scale as rcscale\n",
    "import matplotlib.pyplot as plt\n",
    "plt.style.use('seaborn-white')\n",
    "import numpy as np"
   ]
  },
  {
   "cell_type": "code",
   "execution_count": 5,
   "metadata": {},
   "outputs": [
    {
     "name": "stdout",
     "output_type": "stream",
     "text": [
      "filename = yahil1d_hdf5_chk_0001\n"
     ]
    },
    {
     "ename": "OSError",
     "evalue": "Unable to open file (unable to lock file, errno = 11, error message = 'Resource temporarily unavailable')",
     "output_type": "error",
     "traceback": [
      "\u001b[0;31m-------------------------------------------------------------------\u001b[0m",
      "\u001b[0;31mOSError\u001b[0m                           Traceback (most recent call last)",
      "\u001b[0;32m<ipython-input-5-bd1af69469b8>\u001b[0m in \u001b[0;36m<module>\u001b[0;34m()\u001b[0m\n\u001b[1;32m      1\u001b[0m \u001b[0;31m# data in\u001b[0m\u001b[0;34m\u001b[0m\u001b[0;34m\u001b[0m\u001b[0;34m\u001b[0m\u001b[0m\n\u001b[0;32m----> 2\u001b[0;31m \u001b[0;34m[\u001b[0m\u001b[0mtime\u001b[0m\u001b[0;34m,\u001b[0m \u001b[0mblock_size\u001b[0m\u001b[0;34m,\u001b[0m \u001b[0mcoordinates\u001b[0m\u001b[0;34m,\u001b[0m \u001b[0mbounding\u001b[0m\u001b[0;34m,\u001b[0m \u001b[0mveltot\u001b[0m\u001b[0;34m,\u001b[0m \u001b[0mdens\u001b[0m\u001b[0;34m,\u001b[0m \u001b[0mdena\u001b[0m\u001b[0;34m,\u001b[0m \u001b[0mpres\u001b[0m\u001b[0;34m,\u001b[0m \u001b[0mprsa\u001b[0m \u001b[0;34m]\u001b[0m\u001b[0;34m=\u001b[0m \u001b[0mrcIO\u001b[0m\u001b[0;34m.\u001b[0m\u001b[0mtest_FLASH_IO_2D\u001b[0m\u001b[0;34m(\u001b[0m \u001b[0;34m''\u001b[0m\u001b[0;34m,\u001b[0m \u001b[0;34m'yahil1d_hdf5_chk_'\u001b[0m\u001b[0;34m,\u001b[0m \u001b[0;36m1\u001b[0m\u001b[0;34m)\u001b[0m\u001b[0;34m\u001b[0m\u001b[0;34m\u001b[0m\u001b[0m\n\u001b[0m",
      "\u001b[0;32m/home/ran/Jupter_Flash/UnitTest/rclib/IO.py\u001b[0m in \u001b[0;36mtest_FLASH_IO_2D\u001b[0;34m(dir, filename, ID)\u001b[0m\n\u001b[1;32m     10\u001b[0m   \u001b[0mFileName\u001b[0m \u001b[0;34m=\u001b[0m \u001b[0mdir\u001b[0m\u001b[0;34m+\u001b[0m\u001b[0mfilename\u001b[0m\u001b[0;34m+\u001b[0m\u001b[0mstr\u001b[0m\u001b[0;34m(\u001b[0m\u001b[0mID\u001b[0m\u001b[0;34m)\u001b[0m\u001b[0;34m.\u001b[0m\u001b[0mzfill\u001b[0m\u001b[0;34m(\u001b[0m\u001b[0;36m4\u001b[0m\u001b[0;34m)\u001b[0m\u001b[0;34m\u001b[0m\u001b[0;34m\u001b[0m\u001b[0m\n\u001b[1;32m     11\u001b[0m   \u001b[0mprint\u001b[0m\u001b[0;34m(\u001b[0m \u001b[0;34m'filename ='\u001b[0m\u001b[0;34m,\u001b[0m \u001b[0mFileName\u001b[0m \u001b[0;34m)\u001b[0m\u001b[0;34m\u001b[0m\u001b[0;34m\u001b[0m\u001b[0m\n\u001b[0;32m---> 12\u001b[0;31m   \u001b[0mf\u001b[0m \u001b[0;34m=\u001b[0m \u001b[0mh5py\u001b[0m\u001b[0;34m.\u001b[0m\u001b[0mFile\u001b[0m\u001b[0;34m(\u001b[0m\u001b[0mFileName\u001b[0m\u001b[0;34m,\u001b[0m \u001b[0;34m'r'\u001b[0m\u001b[0;34m)\u001b[0m\u001b[0;34m\u001b[0m\u001b[0;34m\u001b[0m\u001b[0m\n\u001b[0m\u001b[1;32m     13\u001b[0m \u001b[0;34m\u001b[0m\u001b[0m\n\u001b[1;32m     14\u001b[0m   \u001b[0mreal_scalars\u001b[0m \u001b[0;34m=\u001b[0m \u001b[0mf\u001b[0m\u001b[0;34m[\u001b[0m\u001b[0;34m'real scalars'\u001b[0m\u001b[0;34m]\u001b[0m\u001b[0;34m\u001b[0m\u001b[0;34m\u001b[0m\u001b[0m\n",
      "\u001b[0;32m/usr/local/lib/python3.6/dist-packages/h5py/_hl/files.py\u001b[0m in \u001b[0;36m__init__\u001b[0;34m(self, name, mode, driver, libver, userblock_size, swmr, rdcc_nslots, rdcc_nbytes, rdcc_w0, track_order, **kwds)\u001b[0m\n\u001b[1;32m    392\u001b[0m                 fid = make_fid(name, mode, userblock_size,\n\u001b[1;32m    393\u001b[0m                                \u001b[0mfapl\u001b[0m\u001b[0;34m,\u001b[0m \u001b[0mfcpl\u001b[0m\u001b[0;34m=\u001b[0m\u001b[0mmake_fcpl\u001b[0m\u001b[0;34m(\u001b[0m\u001b[0mtrack_order\u001b[0m\u001b[0;34m=\u001b[0m\u001b[0mtrack_order\u001b[0m\u001b[0;34m)\u001b[0m\u001b[0;34m,\u001b[0m\u001b[0;34m\u001b[0m\u001b[0;34m\u001b[0m\u001b[0m\n\u001b[0;32m--> 394\u001b[0;31m                                swmr=swmr)\n\u001b[0m\u001b[1;32m    395\u001b[0m \u001b[0;34m\u001b[0m\u001b[0m\n\u001b[1;32m    396\u001b[0m             \u001b[0;32mif\u001b[0m \u001b[0mswmr_support\u001b[0m\u001b[0;34m:\u001b[0m\u001b[0;34m\u001b[0m\u001b[0;34m\u001b[0m\u001b[0m\n",
      "\u001b[0;32m/usr/local/lib/python3.6/dist-packages/h5py/_hl/files.py\u001b[0m in \u001b[0;36mmake_fid\u001b[0;34m(name, mode, userblock_size, fapl, fcpl, swmr)\u001b[0m\n\u001b[1;32m    168\u001b[0m         \u001b[0;32mif\u001b[0m \u001b[0mswmr\u001b[0m \u001b[0;32mand\u001b[0m \u001b[0mswmr_support\u001b[0m\u001b[0;34m:\u001b[0m\u001b[0;34m\u001b[0m\u001b[0;34m\u001b[0m\u001b[0m\n\u001b[1;32m    169\u001b[0m             \u001b[0mflags\u001b[0m \u001b[0;34m|=\u001b[0m \u001b[0mh5f\u001b[0m\u001b[0;34m.\u001b[0m\u001b[0mACC_SWMR_READ\u001b[0m\u001b[0;34m\u001b[0m\u001b[0;34m\u001b[0m\u001b[0m\n\u001b[0;32m--> 170\u001b[0;31m         \u001b[0mfid\u001b[0m \u001b[0;34m=\u001b[0m \u001b[0mh5f\u001b[0m\u001b[0;34m.\u001b[0m\u001b[0mopen\u001b[0m\u001b[0;34m(\u001b[0m\u001b[0mname\u001b[0m\u001b[0;34m,\u001b[0m \u001b[0mflags\u001b[0m\u001b[0;34m,\u001b[0m \u001b[0mfapl\u001b[0m\u001b[0;34m=\u001b[0m\u001b[0mfapl\u001b[0m\u001b[0;34m)\u001b[0m\u001b[0;34m\u001b[0m\u001b[0;34m\u001b[0m\u001b[0m\n\u001b[0m\u001b[1;32m    171\u001b[0m     \u001b[0;32melif\u001b[0m \u001b[0mmode\u001b[0m \u001b[0;34m==\u001b[0m \u001b[0;34m'r+'\u001b[0m\u001b[0;34m:\u001b[0m\u001b[0;34m\u001b[0m\u001b[0;34m\u001b[0m\u001b[0m\n\u001b[1;32m    172\u001b[0m         \u001b[0mfid\u001b[0m \u001b[0;34m=\u001b[0m \u001b[0mh5f\u001b[0m\u001b[0;34m.\u001b[0m\u001b[0mopen\u001b[0m\u001b[0;34m(\u001b[0m\u001b[0mname\u001b[0m\u001b[0;34m,\u001b[0m \u001b[0mh5f\u001b[0m\u001b[0;34m.\u001b[0m\u001b[0mACC_RDWR\u001b[0m\u001b[0;34m,\u001b[0m \u001b[0mfapl\u001b[0m\u001b[0;34m=\u001b[0m\u001b[0mfapl\u001b[0m\u001b[0;34m)\u001b[0m\u001b[0;34m\u001b[0m\u001b[0;34m\u001b[0m\u001b[0m\n",
      "\u001b[0;32mh5py/_objects.pyx\u001b[0m in \u001b[0;36mh5py._objects.with_phil.wrapper\u001b[0;34m()\u001b[0m\n",
      "\u001b[0;32mh5py/_objects.pyx\u001b[0m in \u001b[0;36mh5py._objects.with_phil.wrapper\u001b[0;34m()\u001b[0m\n",
      "\u001b[0;32mh5py/h5f.pyx\u001b[0m in \u001b[0;36mh5py.h5f.open\u001b[0;34m()\u001b[0m\n",
      "\u001b[0;31mOSError\u001b[0m: Unable to open file (unable to lock file, errno = 11, error message = 'Resource temporarily unavailable')"
     ]
    }
   ],
   "source": [
    "# data in\n",
    "[time, block_size, coordinates, bounding, veltot, dens, dena, pres, prsa ]= rcIO.test_FLASH_IO_2D( '', 'yahil1d_hdf5_chk_', 1)                                                                   "
   ]
  },
  {
   "cell_type": "code",
   "execution_count": null,
   "metadata": {
    "scrolled": true
   },
   "outputs": [],
   "source": [
    "# plot 2D grid\n",
    "rcplt.plot_FLASHGrid2D( bounding )"
   ]
  },
  {
   "cell_type": "code",
   "execution_count": null,
   "metadata": {},
   "outputs": [],
   "source": [
    "# convert and compute\n",
    "r = rcscale.scale_FLASH_2DCylindrical_Coordinate( coordinates )\n",
    "dens_1d = rcscale.scale_FLASH_2DCylindrical( dens )\n",
    "pres_1d = rcscale.scale_FLASH_2DCylindrical( pres )\n",
    "ctr_pres = 6.e27\n",
    "ctr_rho  = 7.e9\n",
    "int_gamm = 1.33\n",
    "kappa = ctr_pres / pow(ctr_rho, int_gamm)\n",
    "pres_predict = kappa * pow(dens_1d, 1.33)\n",
    "# make plots\n",
    "fig=plt.figure(figsize=(10, 8), dpi= 80, facecolor='w', edgecolor='k')\n",
    "ax = plt.subplot(121)\n",
    "plt.loglog(dens_1d,pres_1d,'o')\n",
    "plt.loglog(dens_1d,pres_predict,'.')\n",
    "plt.xlabel('density',fontsize=16)\n",
    "plt.ylabel('pressure',fontsize=16)\n",
    "plt.subplot(122)\n",
    "plt.semilogx(dens_1d,abs(pres_1d - pres_predict)/abs(pres_predict),'.')\n",
    "plt.xlabel('density',fontsize=16)\n",
    "plt.ylabel('difference',fontsize=16)\n",
    "plt.subplots_adjust(bottom=0.25, top=0.75)\n",
    "plt.show()"
   ]
  },
  {
   "cell_type": "code",
   "execution_count": null,
   "metadata": {},
   "outputs": [],
   "source": [
    "fig=plt.figure(figsize=(10, 8), dpi= 80, facecolor='w', edgecolor='k')\n",
    "rng = np.random.RandomState(0)\n",
    "block_size3D = block_size[:,0] * block_size[:,1] / block_size[0,0] / block_size[0,1] * 400\n",
    "plt.scatter(coordinates[:,0], coordinates[:,1], marker=\"s\", c=dens_1d, s= block_size3D, alpha=0.4,\n",
    "            cmap='viridis')\n",
    "plt.colorbar();  # show color scale\n",
    "plt.gca().set_aspect('equal', adjustable='box')"
   ]
  },
  {
   "cell_type": "code",
   "execution_count": null,
   "metadata": {},
   "outputs": [],
   "source": [
    "fig=plt.figure(figsize=(10, 8), dpi= 80, facecolor='w', edgecolor='k')\n",
    "rng = np.random.RandomState(0)\n",
    "block_size3D = block_size[:,0] * block_size[:,1] / block_size[0,0] / block_size[0,1] * 400\n",
    "plt.scatter(coordinates[:,0], coordinates[:,1], marker=\"s\", c=pres_1d, s= block_size3D, alpha=0.4,\n",
    "            cmap='viridis')\n",
    "plt.colorbar();  # show color scale\n",
    "plt.gca().set_aspect('equal', adjustable='box')"
   ]
  },
  {
   "cell_type": "code",
   "execution_count": null,
   "metadata": {},
   "outputs": [],
   "source": [
    "# data in\n",
    "[block_size, coordinates, bounding, veltot, dens, pres ]= rcIO.test_FLASH_IO( '', 'yahil_hdf5_chk_', 12 )\n",
    "# convert and compute\n",
    "r = rcscale.scale_FLASH_2DCylindrical_Coordinate( coordinates )\n",
    "dens_1d = rcscale.scale_FLASH_2DCylindrical( dens )\n",
    "pres_1d = rcscale.scale_FLASH_2DCylindrical( pres )\n",
    "ctr_pres = 6.e27\n",
    "ctr_rho  = 7.e9\n",
    "int_gamm = 1.33\n",
    "kappa = ctr_pres / pow(ctr_rho, int_gamm)\n",
    "pres_predict = kappa * pow(dens_1d, 1.33)\n",
    "# make plots\n",
    "fig=plt.figure(figsize=(10, 8), dpi= 80, facecolor='w', edgecolor='k')\n",
    "ax = plt.subplot(121)\n",
    "plt.loglog(dens_1d,pres_1d,'o')\n",
    "plt.loglog(dens_1d,pres_predict,'.')\n",
    "plt.xlabel('density',fontsize=16)\n",
    "plt.ylabel('pressure',fontsize=16)\n",
    "plt.subplot(122)\n",
    "plt.semilogx(dens_1d,abs(pres_1d - pres_predict)/abs(pres_predict),'.')\n",
    "plt.xlabel('density',fontsize=16)\n",
    "plt.ylabel('difference',fontsize=16)\n",
    "plt.subplots_adjust(bottom=0.25, top=0.75)\n",
    "plt.show()"
   ]
  },
  {
   "cell_type": "code",
   "execution_count": null,
   "metadata": {},
   "outputs": [],
   "source": [
    "# data in\n",
    "[block_size, coordinates, bounding, veltot, dens, pres ]= rcIO.test_FLASH_IO( '', 'yahil_hdf5_chk_', 11 )\n",
    "# convert and compute\n",
    "r = rcscale.scale_FLASH_2DCylindrical_Coordinate( coordinates )\n",
    "dens_1d = rcscale.scale_FLASH_2DCylindrical( dens )\n",
    "pres_1d = rcscale.scale_FLASH_2DCylindrical( pres )\n",
    "ctr_pres = 6.e27\n",
    "ctr_rho  = 7.e9\n",
    "int_gamm = 1.33\n",
    "kappa = ctr_pres / pow(ctr_rho, int_gamm)\n",
    "pres_predict = kappa * pow(dens_1d, 1.33)\n",
    "# make plots\n",
    "fig=plt.figure(figsize=(10, 8), dpi= 80, facecolor='w', edgecolor='k')\n",
    "ax = plt.subplot(121)\n",
    "plt.loglog(dens_1d,pres_1d,'o')\n",
    "plt.loglog(dens_1d,pres_predict,'.')\n",
    "plt.xlabel('density',fontsize=16)\n",
    "plt.ylabel('pressure',fontsize=16)\n",
    "plt.subplot(122)\n",
    "plt.semilogx(dens_1d,abs(pres_1d - pres_predict)/abs(pres_predict),'.')\n",
    "plt.xlabel('density',fontsize=16)\n",
    "plt.ylabel('difference',fontsize=16)\n",
    "plt.subplots_adjust(bottom=0.25, top=0.75)\n",
    "plt.show()"
   ]
  },
  {
   "cell_type": "code",
   "execution_count": null,
   "metadata": {},
   "outputs": [],
   "source": [
    "# data in\n",
    "[block_size, coordinates, bounding, veltot, dens, pres ]= rcIO.test_FLASH_IO( '', 'yahil_hdf5_chk_', 10 )\n",
    "# convert and compute\n",
    "r = rcscale.scale_FLASH_2DCylindrical_Coordinate( coordinates )\n",
    "dens_1d = rcscale.scale_FLASH_2DCylindrical( dens )\n",
    "pres_1d = rcscale.scale_FLASH_2DCylindrical( pres )\n",
    "ctr_pres = 6.e27\n",
    "ctr_rho  = 7.e9\n",
    "int_gamm = 1.33\n",
    "kappa = ctr_pres / pow(ctr_rho, int_gamm)\n",
    "pres_predict = kappa * pow(dens_1d, 1.33)\n",
    "# make plots\n",
    "fig=plt.figure(figsize=(10, 8), dpi= 80, facecolor='w', edgecolor='k')\n",
    "ax = plt.subplot(121)\n",
    "plt.loglog(dens_1d,pres_1d,'o')\n",
    "plt.loglog(dens_1d,pres_predict,'.')\n",
    "plt.xlabel('density',fontsize=16)\n",
    "plt.ylabel('pressure',fontsize=16)\n",
    "plt.subplot(122)\n",
    "plt.semilogx(dens_1d,abs(pres_1d - pres_predict)/abs(pres_predict),'.')\n",
    "plt.xlabel('density',fontsize=16)\n",
    "plt.ylabel('difference',fontsize=16)\n",
    "plt.subplots_adjust(bottom=0.25, top=0.75)\n",
    "plt.show()"
   ]
  },
  {
   "cell_type": "code",
   "execution_count": null,
   "metadata": {
    "scrolled": true
   },
   "outputs": [],
   "source": [
    "# data in\n",
    "[block_size, coordinates, bounding, veltot, dens, pres ]= rcIO.test_FLASH_IO( '', 'yahil_hdf5_chk_', 9 )\n",
    "# convert and compute\n",
    "r = rcscale.scale_FLASH_2DCylindrical_Coordinate( coordinates )\n",
    "dens_1d = rcscale.scale_FLASH_2DCylindrical( dens )\n",
    "pres_1d = rcscale.scale_FLASH_2DCylindrical( pres )\n",
    "ctr_pres = 6.e27\n",
    "ctr_rho  = 7.e9\n",
    "int_gamm = 1.33\n",
    "kappa = ctr_pres / pow(ctr_rho, int_gamm)\n",
    "pres_predict = kappa * pow(dens_1d, 1.33)\n",
    "# make plots\n",
    "fig=plt.figure(figsize=(10, 8), dpi= 80, facecolor='w', edgecolor='k')\n",
    "ax = plt.subplot(121)\n",
    "plt.loglog(dens_1d,pres_1d,'o')\n",
    "plt.loglog(dens_1d,pres_predict,'.')\n",
    "plt.xlabel('density',fontsize=16)\n",
    "plt.ylabel('pressure',fontsize=16)\n",
    "plt.subplot(122)\n",
    "plt.semilogx(dens_1d,abs(pres_1d - pres_predict)/abs(pres_predict),'.')\n",
    "plt.xlabel('density',fontsize=16)\n",
    "plt.ylabel('difference',fontsize=16)\n",
    "plt.subplots_adjust(bottom=0.25, top=0.75)\n",
    "plt.show()"
   ]
  },
  {
   "cell_type": "code",
   "execution_count": null,
   "metadata": {
    "scrolled": true
   },
   "outputs": [],
   "source": [
    "# data in\n",
    "[block_size, coordinates, bounding, veltot, dens, pres ]= rcIO.test_FLASH_IO( '', 'yahil_hdf5_chk_', 8 )\n",
    "# convert and compute\n",
    "r = rcscale.scale_FLASH_2DCylindrical_Coordinate( coordinates )\n",
    "dens_1d = rcscale.scale_FLASH_2DCylindrical( dens )\n",
    "pres_1d = rcscale.scale_FLASH_2DCylindrical( pres )\n",
    "ctr_pres = 6.e27\n",
    "ctr_rho  = 7.e9\n",
    "int_gamm = 1.33\n",
    "kappa = ctr_pres / pow(ctr_rho, int_gamm)\n",
    "pres_predict = kappa * pow(dens_1d, 1.33)\n",
    "# make plots\n",
    "fig=plt.figure(figsize=(10, 8), dpi= 80, facecolor='w', edgecolor='k')\n",
    "ax = plt.subplot(121)\n",
    "plt.loglog(dens_1d,pres_1d,'o')\n",
    "plt.loglog(dens_1d,pres_predict,'.')\n",
    "plt.xlabel('density',fontsize=16)\n",
    "plt.ylabel('pressure',fontsize=16)\n",
    "plt.subplot(122)\n",
    "plt.semilogx(dens_1d,abs(pres_1d - pres_predict)/abs(pres_predict),'.')\n",
    "plt.xlabel('density',fontsize=16)\n",
    "plt.ylabel('difference',fontsize=16)\n",
    "plt.subplots_adjust(bottom=0.25, top=0.75)\n",
    "plt.show()"
   ]
  },
  {
   "cell_type": "code",
   "execution_count": null,
   "metadata": {},
   "outputs": [],
   "source": [
    "# data in\n",
    "[block_size, coordinates, bounding, veltot, dens, pres ]= rcIO.test_FLASH_IO( '', 'yahil_hdf5_chk_', 0 )\n",
    "# convert and compute\n",
    "r = rcscale.scale_FLASH_2DCylindrical_Coordinate( coordinates )\n",
    "dens_1d = rcscale.scale_FLASH_2DCylindrical( dens )\n",
    "pres_1d = rcscale.scale_FLASH_2DCylindrical( pres )\n",
    "ctr_pres = 6.e27\n",
    "ctr_rho  = 7.e9\n",
    "int_gamm = 1.33\n",
    "kappa = ctr_pres / pow(ctr_rho, int_gamm)\n",
    "pres_predict = kappa * pow(dens_1d, 1.33)\n",
    "# make plots\n",
    "fig=plt.figure(figsize=(10, 8), dpi= 80, facecolor='w', edgecolor='k')\n",
    "ax = plt.subplot(121)\n",
    "plt.loglog(dens_1d,pres_1d,'o')\n",
    "plt.loglog(dens_1d,pres_predict,'.')\n",
    "plt.xlabel('density',fontsize=16)\n",
    "plt.ylabel('pressure',fontsize=16)\n",
    "plt.subplot(122)\n",
    "plt.semilogx(dens_1d,abs(pres_1d - pres_predict)/abs(pres_predict),'.')\n",
    "plt.xlabel('density',fontsize=16)\n",
    "plt.ylabel('difference',fontsize=16)\n",
    "plt.subplots_adjust(bottom=0.25, top=0.75)\n",
    "plt.show()"
   ]
  },
  {
   "cell_type": "code",
   "execution_count": null,
   "metadata": {},
   "outputs": [],
   "source": []
  }
 ],
 "metadata": {
  "kernelspec": {
   "display_name": "Python 3",
   "language": "python",
   "name": "python3"
  },
  "language_info": {
   "codemirror_mode": {
    "name": "ipython",
    "version": 3
   },
   "file_extension": ".py",
   "mimetype": "text/x-python",
   "name": "python",
   "nbconvert_exporter": "python",
   "pygments_lexer": "ipython3",
   "version": "3.6.8"
  }
 },
 "nbformat": 4,
 "nbformat_minor": 2
}
